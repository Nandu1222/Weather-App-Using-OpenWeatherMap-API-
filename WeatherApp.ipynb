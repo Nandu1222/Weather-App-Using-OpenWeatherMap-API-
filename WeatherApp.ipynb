{
  "nbformat": 4,
  "nbformat_minor": 0,
  "metadata": {
    "colab": {
      "provenance": []
    },
    "kernelspec": {
      "name": "python3",
      "display_name": "Python 3"
    },
    "language_info": {
      "name": "python"
    }
  },
  "cells": [
    {
      "cell_type": "code",
      "execution_count": 1,
      "metadata": {
        "colab": {
          "base_uri": "https://localhost:8080/"
        },
        "id": "CCz3V9wUcIbw",
        "outputId": "10a521c0-9d1d-4ef4-a9f8-8754e6dba301"
      },
      "outputs": [
        {
          "output_type": "stream",
          "name": "stdout",
          "text": [
            "Requirement already satisfied: requests in /usr/local/lib/python3.11/dist-packages (2.32.3)\n",
            "Requirement already satisfied: charset-normalizer<4,>=2 in /usr/local/lib/python3.11/dist-packages (from requests) (3.4.2)\n",
            "Requirement already satisfied: idna<4,>=2.5 in /usr/local/lib/python3.11/dist-packages (from requests) (3.10)\n",
            "Requirement already satisfied: urllib3<3,>=1.21.1 in /usr/local/lib/python3.11/dist-packages (from requests) (2.5.0)\n",
            "Requirement already satisfied: certifi>=2017.4.17 in /usr/local/lib/python3.11/dist-packages (from requests) (2025.7.14)\n"
          ]
        }
      ],
      "source": [
        "pip install requests\n"
      ]
    },
    {
      "cell_type": "code",
      "source": [
        "import requests\n",
        "\n",
        "def get_weather(city_name, api_key):\n",
        "    try:\n",
        "        # API endpoint\n",
        "        base_url = \"http://api.openweathermap.org/data/2.5/weather?\"\n",
        "\n",
        "        # Complete URL\n",
        "        complete_url = f\"{base_url}q={city_name}&appid={api_key}&units=metric\"\n",
        "\n",
        "        # API call\n",
        "        response = requests.get(complete_url)\n",
        "        data = response.json()\n",
        "\n",
        "        # Debug: Print full response to check if it's valid\n",
        "        print(\"API Response:\", data)  # <-- You can remove this after testing\n",
        "\n",
        "        # Check for success (200) and extract data\n",
        "        if response.status_code == 200 and \"main\" in data:\n",
        "            main = data[\"main\"]\n",
        "            weather = data[\"weather\"][0]\n",
        "\n",
        "            temperature = main[\"temp\"]\n",
        "            humidity = main[\"humidity\"]\n",
        "            description = weather[\"description\"]\n",
        "\n",
        "            print(f\"\\nWeather in {city_name}:\")\n",
        "            print(f\"Temperature: {temperature}°C\")\n",
        "            print(f\"Humidity: {humidity}%\")\n",
        "            print(f\"Description: {description.capitalize()}\")\n",
        "        else:\n",
        "            print(f\"\\nError: {data.get('message', 'Unable to fetch weather data')}\")\n",
        "\n",
        "    except Exception as e:\n",
        "        print(\"Error:\", e)\n",
        "\n",
        "# ------------ Main Program ------------\n",
        "if __name__ == \"__main__\":\n",
        "    api_key = \"4cddb5f451c8eacd22d11fa6fcf9b292\"  # Your API key\n",
        "    city = input(\"Enter city name: \")\n",
        "    get_weather(city, api_key)"
      ],
      "metadata": {
        "colab": {
          "base_uri": "https://localhost:8080/"
        },
        "id": "8P4iaOBdd-x2",
        "outputId": "ed9541db-e57e-4193-c56b-a444efccd20b"
      },
      "execution_count": 8,
      "outputs": [
        {
          "output_type": "stream",
          "name": "stdout",
          "text": [
            "Enter city name: mumbai\n",
            "API Response: {'coord': {'lon': 72.8479, 'lat': 19.0144}, 'weather': [{'id': 701, 'main': 'Mist', 'description': 'mist', 'icon': '50d'}], 'base': 'stations', 'main': {'temp': 28.99, 'feels_like': 34.5, 'temp_min': 27.94, 'temp_max': 28.99, 'pressure': 1003, 'humidity': 79, 'sea_level': 1003, 'grnd_level': 1002}, 'visibility': 2500, 'wind': {'speed': 6.17, 'deg': 250}, 'clouds': {'all': 100}, 'dt': 1753277291, 'sys': {'type': 1, 'id': 9052, 'country': 'IN', 'sunrise': 1753231332, 'sunset': 1753278458}, 'timezone': 19800, 'id': 1275339, 'name': 'Mumbai', 'cod': 200}\n",
            "\n",
            "Weather in mumbai:\n",
            "Temperature: 28.99°C\n",
            "Humidity: 79%\n",
            "Description: Mist\n"
          ]
        }
      ]
    }
  ]
}